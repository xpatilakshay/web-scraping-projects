{
 "cells": [
  {
   "cell_type": "markdown",
   "id": "1c9e208f-ddfe-463d-a91f-64ca4f14f086",
   "metadata": {},
   "source": [
    "## 📌 Mini Project 2: Scrape Top 10 “Quotes of the Day” from Quotes Website\n",
    "## Task\n",
    "\n",
    "- Go to http://quotes.toscrape.com/\n",
    "\n",
    "- Scrape only the first page (no pagination needed this time).\n",
    "\n",
    "-- For each quote, extract:\n",
    "\n",
    "- Quote text\n",
    "\n",
    "- Author name\n",
    "\n",
    "- First tag associated with the quote (if any)\n",
    "\n",
    "- Store the data in a Pandas DataFrame with columns:\n",
    "\n",
    "-- Quote | Author | First_Tag\n",
    "\n",
    "\n",
    "-- Print the first 5 rows of the DataFrame.\n",
    "\n",
    "-- Save it into a CSV file named top_quotes.csv."
   ]
  },
  {
   "cell_type": "code",
   "execution_count": 3,
   "id": "211c0732-bdf4-4f34-b0a0-ea9b6bba2a64",
   "metadata": {},
   "outputs": [
    {
     "name": "stdout",
     "output_type": "stream",
     "text": [
      "                                               Quote           Author  \\\n",
      "0  “The world as we have created it is a process ...  Albert Einstein   \n",
      "1  “It is our choices, Harry, that show what we t...     J.K. Rowling   \n",
      "2  “There are only two ways to live your life. On...  Albert Einstein   \n",
      "3  “The person, be it gentleman or lady, who has ...      Jane Austen   \n",
      "4  “Imperfection is beauty, madness is genius and...   Marilyn Monroe   \n",
      "\n",
      "       First_Tag  \n",
      "0         change  \n",
      "1      abilities  \n",
      "2  inspirational  \n",
      "3      aliteracy  \n",
      "4    be-yourself  \n"
     ]
    }
   ],
   "source": [
    "import requests\n",
    "from bs4 import BeautifulSoup\n",
    "import pandas as pd\n",
    "\n",
    "url = \"http://quotes.toscrape.com/\"\n",
    "response = requests.get(url)\n",
    "\n",
    "soup = BeautifulSoup(response.text, \"html.parser\")\n",
    "\n",
    "quotes_divs = soup.find_all(\"div\", class_=\"quote\")  # get each quote block\n",
    "\n",
    "all_quotes = []\n",
    "\n",
    "for div in quotes_divs:\n",
    "    quote_text = div.find(\"span\", class_=\"text\").get_text()\n",
    "    author = div.find(\"small\", class_=\"author\").get_text()\n",
    "    \n",
    "    # Get first tag\n",
    "    tags_div = div.find(\"div\", class_=\"tags\")         # all tags container\n",
    "    tags = tags_div.find_all(\"a\", class_=\"tag\")       # list of <a class=\"tag\">\n",
    "    first_tag = tags[0].get_text() if tags else \"\"    # get first tag if exists, else empty string\n",
    "    \n",
    "    all_quotes.append({\n",
    "        \"Quote\": quote_text,\n",
    "        \"Author\": author,\n",
    "        \"First_Tag\": first_tag\n",
    "    })\n",
    "\n",
    "df = pd.DataFrame(all_quotes)\n",
    "df.to_csv(\"quotes_with_tags.csv\", index=False)\n",
    "\n",
    "print(df.head())"
   ]
  }
 ],
 "metadata": {
  "kernelspec": {
   "display_name": "Python 3 (ipykernel)",
   "language": "python",
   "name": "python3"
  },
  "language_info": {
   "codemirror_mode": {
    "name": "ipython",
    "version": 3
   },
   "file_extension": ".py",
   "mimetype": "text/x-python",
   "name": "python",
   "nbconvert_exporter": "python",
   "pygments_lexer": "ipython3",
   "version": "3.10.12"
  }
 },
 "nbformat": 4,
 "nbformat_minor": 5
}
