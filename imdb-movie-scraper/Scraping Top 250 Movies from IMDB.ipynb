{
 "cells": [
  {
   "cell_type": "markdown",
   "id": "d29a5f33-7804-4eee-b85b-8173835ed0ef",
   "metadata": {},
   "source": [
    "## 📌 Mini Project: Scraping Top 250 Movies from IMDB\n",
    "\n",
    "### 👉 Goal:\n",
    "\n",
    "Scrape IMDB Top 250 movies list\n",
    "\n",
    "Extract:\n",
    "\n",
    "Movie Rank\n",
    "\n",
    "Title\n",
    "\n",
    "Year\n",
    "\n",
    "Rating\n",
    "\n",
    "Save into a CSV file\n",
    "\n",
    "**URL: https://www.imdb.com/chart/top/**"
   ]
  },
  {
   "cell_type": "markdown",
   "id": "c4c6aeea-0362-44f8-ad67-58a03c9a6f27",
   "metadata": {},
   "source": [
    "### Step 1: Fetch Page"
   ]
  },
  {
   "cell_type": "code",
   "execution_count": 1,
   "id": "0c1bef18-fae0-4b19-b4e8-28a0ab10784c",
   "metadata": {},
   "outputs": [],
   "source": [
    "import requests\n",
    "from bs4 import BeautifulSoup\n",
    "import pandas as pd\n",
    "\n",
    "url = \"https://www.imdb.com/chart/top/\"\n",
    "\n",
    "headers = {\"User-Agent\": \"Mozilla/5.0\"}\n",
    "\n",
    "response = requests.get(url, headers=headers)"
   ]
  },
  {
   "cell_type": "markdown",
   "id": "db20d033-e181-460d-9b73-c04475ac863a",
   "metadata": {},
   "source": [
    "### Step 2: Locate Movie Containers"
   ]
  },
  {
   "cell_type": "raw",
   "id": "b3a938d6-e8f0-4fa3-af68-c8360e7e2590",
   "metadata": {},
   "source": [
    "If you inspect the page:\n",
    "Each movie is inside <li class=\"ipc-metadata-list-summary-item\">\n",
    "\n",
    "Inside it:\n",
    "\n",
    "Rank → in <span class=\"ipc-title__text\">\n",
    "\n",
    "Title → also inside same span (text after rank)\n",
    "\n",
    "Year → <span class=\"sc-14dd939d-6\">\n",
    "\n",
    "Rating → <span class=\"ipc-rating-star--rating\">"
   ]
  },
  {
   "cell_type": "code",
   "execution_count": 2,
   "id": "ddfa29e4-92db-44ae-b14d-3cbb070d2e79",
   "metadata": {},
   "outputs": [],
   "source": [
    "url = \"https://www.imdb.com/chart/top/\"\n",
    "\n",
    "headers = {\"User-Agent\": \"Mozilla/5.0\"}\n",
    "\n",
    "response = requests.get(url, headers=headers)\n",
    "\n",
    "\n",
    "soup = BeautifulSoup(response.text,\"html.parser\")\n",
    "\n",
    "movies = soup.select('li.ipc-metadata-list-summary-item')\n",
    "\n",
    "all_movies = []\n",
    "\n",
    "for movie in movies:\n",
    "    rank_title = movie.select_one(\"h3.ipc-title__text\").get_text()\n",
    "    parts = rank_title.split(\". \")\n",
    "    rank = parts[0]\n",
    "    title = parts[1]\n",
    "\n",
    "    year = movie.select_one(\"span.sc-15ac7568-7\").get_text()\n",
    "\n",
    "    rating = movie.select_one(\"span.ipc-rating-star--rating\").get_text()\n",
    "\n",
    "    all_movies.append(\n",
    "        {\n",
    "            \"Rank\":rank,\n",
    "            \"Title\":title,\n",
    "            \"Year\":year,\n",
    "            \"Rating\":rating\n",
    "        }\n",
    "    ) \n"
   ]
  },
  {
   "cell_type": "markdown",
   "id": "baffff09-8a64-4c5b-b381-b94b75f4d5ce",
   "metadata": {},
   "source": [
    "### Step 4: Save to Pandas + CSV"
   ]
  },
  {
   "cell_type": "code",
   "execution_count": 3,
   "id": "6db16af7-29af-40d2-a7ba-272dc7ec26c7",
   "metadata": {},
   "outputs": [],
   "source": [
    "df = pd.DataFrame(all_movies)\n",
    "df.to_csv(\"imdb_top250.csv\", index=False)"
   ]
  },
  {
   "cell_type": "code",
   "execution_count": 4,
   "id": "9af0aaad-f6f1-499d-b201-30ead9f88b96",
   "metadata": {},
   "outputs": [
    {
     "name": "stdout",
     "output_type": "stream",
     "text": [
      "   Rank                                              Title  Year Rating\n",
      "0     1                           The Shawshank Redemption  1994    9.3\n",
      "1     2                                      The Godfather  1972    9.2\n",
      "2     3                                    The Dark Knight  2008    9.1\n",
      "3     4                             The Godfather: Part II  1974    9.0\n",
      "4     5                                       12 Angry Men  1957    9.0\n",
      "5     6      The Lord of the Rings: The Return of the King  2003    9.0\n",
      "6     7                                   Schindler's List  1993    9.0\n",
      "7     8                                       Pulp Fiction  1994    8.8\n",
      "8     9  The Lord of the Rings: The Fellowship of the Ring  2001    8.9\n",
      "9    10                    Il Buono, Il Brutto, Il Cattivo  1966    8.8\n",
      "10   11                                       Forrest Gump  1994    8.8\n",
      "11   12              The Lord of the Rings: The Two Towers  2002    8.8\n",
      "12   13                                         Fight Club  1999    8.8\n",
      "13   14                                          Inception  2010    8.8\n",
      "14   15     Star Wars: Episode V - The Empire Strikes Back  1980    8.7\n",
      "15   16                                         The Matrix  1999    8.7\n",
      "16   17                                         GoodFellas  1990    8.7\n",
      "17   18                                       Interstellar  2014    8.7\n",
      "18   19                    One Flew Over the Cuckoo's Nest  1975    8.7\n",
      "19   20                                              Se7en  1995    8.6\n",
      "20   21                              It's a Wonderful Life  1946    8.6\n",
      "21   22                           The Silence of the Lambs  1991    8.6\n",
      "22   23                               Shichinin No Samurai  1954    8.6\n",
      "23   24                                Saving Private Ryan  1998    8.6\n",
      "24   25                                     The Green Mile  1999    8.6\n"
     ]
    }
   ],
   "source": [
    "print(df)"
   ]
  }
 ],
 "metadata": {
  "kernelspec": {
   "display_name": "Python 3 (ipykernel)",
   "language": "python",
   "name": "python3"
  },
  "language_info": {
   "codemirror_mode": {
    "name": "ipython",
    "version": 3
   },
   "file_extension": ".py",
   "mimetype": "text/x-python",
   "name": "python",
   "nbconvert_exporter": "python",
   "pygments_lexer": "ipython3",
   "version": "3.10.12"
  }
 },
 "nbformat": 4,
 "nbformat_minor": 5
}
